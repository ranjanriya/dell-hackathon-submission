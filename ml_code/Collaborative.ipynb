{
 "cells": [
  {
   "cell_type": "code",
   "execution_count": 1,
   "metadata": {},
   "outputs": [],
   "source": [
    "import pandas as pd\n",
    "import matplotlib.pyplot as plt"
   ]
  },
  {
   "cell_type": "code",
   "execution_count": 3,
   "metadata": {},
   "outputs": [],
   "source": [
    "user = pd.read_excel('start.xlsx')\n"
   ]
  },
  {
   "cell_type": "code",
   "execution_count": 4,
   "metadata": {},
   "outputs": [],
   "source": [
    "def Affinity(user,userCount,itemList):\n",
    "    itemAffinity= pd.DataFrame(columns=('p_id1', 'p_id2', 'score'))\n",
    "    rowCount=0\n",
    "\n",
    "    #For each item in the list, compare with other items.\n",
    "    for i in range(len(itemList)):\n",
    "    \n",
    "        #Get list of users \n",
    "        item1Users = user[user.p_id==itemList[i]][\"user_id\"].tolist()\n",
    "        \n",
    "    \n",
    "        #Get item 2 - items that are not item 1 or those that are not analyzed already.\n",
    "        for j in range(i, len(itemList)):\n",
    "        \n",
    "            if ( i == j):\n",
    "                continue\n",
    "       \n",
    "            #Get list of users who bought item 2\n",
    "            item2Users=user[user.p_id==itemList[j]][\"user_id\"].tolist()\n",
    "            \n",
    "        \n",
    "            #Find score. \n",
    "            commonUsers= len(set(item1Users).intersection(set(item2Users)))\n",
    "            score=commonUsers / userCount\n",
    "\n",
    "            #Add a score for item 1, item 2\n",
    "            itemAffinity.loc[rowCount] = [itemList[i],itemList[j],score]\n",
    "            rowCount +=1\n",
    "            #Add a score for item2, item 1\n",
    "            itemAffinity.loc[rowCount] = [itemList[i],itemList[j],score]\n",
    "            rowCount +=1\n",
    "        \n",
    " \n",
    "    return itemAffinity"
   ]
  },
  {
   "cell_type": "code",
   "execution_count": 5,
   "metadata": {},
   "outputs": [
    {
     "name": "stdout",
     "output_type": "stream",
     "text": [
      "Product id: 2004\n",
      "Recommendations for item: 2004 \n"
     ]
    }
   ],
   "source": [
    "#SUPPORT PRODUCT RECOMMENDATION\n",
    "itemList=list(set(user[\"p_id\"].tolist())) #unique items\n",
    "count=5\n",
    "\n",
    "itemAffinity=Affinity(user,count,itemList)\n",
    "searchItem=int(input(\"Product id: \"))\n",
    "recoList=itemAffinity[itemAffinity.p_id1==searchItem]\\\n",
    "        [[\"p_id2\",\"score\"]]\\\n",
    "        .sort_values(\"score\", ascending=[0])\n",
    "        \n",
    "print(\"Recommendations for item:\",searchItem,'')\n",
    "#print(searchItem)\n",
    "threshold=0.5\n",
    "while(threshold):\n",
    "    D=recoList[recoList[\"score\"]>threshold]\n",
    "    if(D.empty):\n",
    "        threshold=threshold/2\n",
    "        continue\n",
    "    break;   \n",
    "#print(D[\"p_id2\"].unique())\n",
    "for i in D[\"p_id2\"].unique():\n",
    "    print(int(i))\n"
   ]
  },
  {
   "cell_type": "code",
   "execution_count": 6,
   "metadata": {},
   "outputs": [
    {
     "name": "stdout",
     "output_type": "stream",
     "text": [
      "Recommendations for Services of product : 2004 \n",
      "6003\n",
      "6004\n",
      "6001\n",
      "6002\n"
     ]
    }
   ],
   "source": [
    "#SUPPORT SERVICE RECOMMENDATION\n",
    "product = pd.read_excel('%04d.xlsx'%(searchItem))\n",
    "SList=list(set(product[\"p_id\"].tolist()))\n",
    "ServiceAffinity=Affinity(product,count,SList)\n",
    "ServiceAffinity\n",
    "threshold=0.5\n",
    "while(threshold):\n",
    "    E=ServiceAffinity[ServiceAffinity[\"score\"]>threshold]\n",
    "    if(E.empty):\n",
    "        threshold=threshold/2\n",
    "        continue\n",
    "    break;\n",
    "   \n",
    "\n",
    "\n",
    "print(\"Recommendations for Services of product :\",searchItem,'')\n",
    "for i in E[\"p_id2\"].unique():\n",
    "    print(int(i))\n",
    "for i in E[\"p_id1\"].unique():\n",
    "    print(int(i))    \n",
    "    \n"
   ]
  },
  {
   "cell_type": "code",
   "execution_count": null,
   "metadata": {},
   "outputs": [],
   "source": []
  }
 ],
 "metadata": {
  "kernelspec": {
   "display_name": "Python 3",
   "language": "python",
   "name": "python3"
  },
  "language_info": {
   "codemirror_mode": {
    "name": "ipython",
    "version": 3
   },
   "file_extension": ".py",
   "mimetype": "text/x-python",
   "name": "python",
   "nbconvert_exporter": "python",
   "pygments_lexer": "ipython3",
   "version": "3.7.1"
  }
 },
 "nbformat": 4,
 "nbformat_minor": 2
}
